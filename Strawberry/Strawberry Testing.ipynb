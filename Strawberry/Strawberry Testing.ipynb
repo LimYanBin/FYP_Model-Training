{
 "cells": [
  {
   "cell_type": "code",
   "execution_count": 1,
   "id": "49449c22-975c-4eaf-84d0-0687e5a062d0",
   "metadata": {},
   "outputs": [],
   "source": [
    "import tensorflow as tf\n",
    "from tensorflow.keras.models import load_model\n",
    "import numpy as np\n",
    "from PIL import Image\n",
    "import os"
   ]
  },
  {
   "cell_type": "markdown",
   "id": "ab925b39",
   "metadata": {},
   "source": [
    "# Load Model"
   ]
  },
  {
   "cell_type": "code",
   "execution_count": 2,
   "id": "248a029d-4f7c-4143-8279-0eb35064f5d4",
   "metadata": {},
   "outputs": [],
   "source": [
    "model = load_model(r\"E:\\Desktop\\Recognition Model\\Strawberry\\Strawberry Model 1\")"
   ]
  },
  {
   "cell_type": "markdown",
   "id": "c463e997-87fc-448b-a136-df0ae9ef5732",
   "metadata": {},
   "source": [
    "# Load Image"
   ]
  },
  {
   "cell_type": "code",
   "execution_count": 3,
   "id": "63571352-8422-4cdf-b296-7a526787b9a6",
   "metadata": {},
   "outputs": [],
   "source": [
    "BASE_DIR = r'E:\\Desktop\\Recognition Model\\Strawberry\\Strawberry Dataset 1'\n",
    "test_dir = os.path.join(BASE_DIR, 'test')\n",
    "\n",
    "test_class_dir = [os.path.join(test_dir, d) for d in os.listdir(test_dir) if os.path.isdir(os.path.join(test_dir, d))]\n",
    "test_image_paths = []\n",
    "\n",
    "for class_dir in test_class_dir:\n",
    "    for file_name in os.listdir(class_dir):\n",
    "        if file_name.endswith(('.JPG','.jpg','.jpeg','.png')):\n",
    "            image_path = os.path.join(class_dir, file_name)\n",
    "            test_image_paths.append(image_path)"
   ]
  },
  {
   "cell_type": "code",
   "execution_count": 4,
   "id": "8bf83904-4bbd-4fc4-906b-029da950e260",
   "metadata": {},
   "outputs": [],
   "source": [
    "result = {}\n",
    "\n",
    "for filename in os.listdir(test_dir):\n",
    "    filepath = os.path.join(test_dir, filename)\n",
    "    if os.path.isdir(filepath):\n",
    "        # Count the number of images in the directory\n",
    "        num_images = len([name for name in os.listdir(filepath) if os.path.isfile(os.path.join(filepath, name))])\n",
    "        # Store the count in the test_label dictionary with the file name as key\n",
    "        result[filename] = num_images\n",
    "\n",
    "# Now, create the variable with repeated names based on the count\n",
    "test_label = []\n",
    "for filename, count in result.items():\n",
    "    test_label.extend([filename] * count)"
   ]
  },
  {
   "cell_type": "markdown",
   "id": "04c83ac9-0c57-4fd3-8795-fa41ce71ca3a",
   "metadata": {},
   "source": [
    "# Checking"
   ]
  },
  {
   "cell_type": "code",
   "execution_count": 5,
   "id": "e8f03f93-bb1a-4e72-ad7a-87c5d4a9d1a0",
   "metadata": {},
   "outputs": [
    {
     "data": {
      "text/plain": [
       "['Healthy',\n",
       " 'Healthy',\n",
       " 'Healthy',\n",
       " 'Healthy',\n",
       " 'Healthy',\n",
       " 'Healthy',\n",
       " 'Healthy',\n",
       " 'Healthy',\n",
       " 'Healthy',\n",
       " 'Healthy',\n",
       " 'Healthy',\n",
       " 'Healthy',\n",
       " 'Healthy',\n",
       " 'Healthy',\n",
       " 'Healthy',\n",
       " 'Healthy',\n",
       " 'Healthy',\n",
       " 'Healthy',\n",
       " 'Healthy',\n",
       " 'Healthy',\n",
       " 'Healthy',\n",
       " 'Healthy',\n",
       " 'Healthy',\n",
       " 'Healthy',\n",
       " 'Healthy',\n",
       " 'Healthy',\n",
       " 'Healthy',\n",
       " 'Healthy',\n",
       " 'Healthy',\n",
       " 'Healthy',\n",
       " 'Healthy',\n",
       " 'Healthy',\n",
       " 'Healthy',\n",
       " 'Healthy',\n",
       " 'Healthy',\n",
       " 'Healthy',\n",
       " 'Healthy',\n",
       " 'Healthy',\n",
       " 'Healthy',\n",
       " 'Healthy',\n",
       " 'Healthy',\n",
       " 'Healthy',\n",
       " 'Healthy',\n",
       " 'Healthy',\n",
       " 'Healthy',\n",
       " 'Healthy',\n",
       " 'Leaf Scorch',\n",
       " 'Leaf Scorch',\n",
       " 'Leaf Scorch',\n",
       " 'Leaf Scorch',\n",
       " 'Leaf Scorch',\n",
       " 'Leaf Scorch',\n",
       " 'Leaf Scorch',\n",
       " 'Leaf Scorch',\n",
       " 'Leaf Scorch',\n",
       " 'Leaf Scorch',\n",
       " 'Leaf Scorch',\n",
       " 'Leaf Scorch',\n",
       " 'Leaf Scorch',\n",
       " 'Leaf Scorch',\n",
       " 'Leaf Scorch',\n",
       " 'Leaf Scorch',\n",
       " 'Leaf Scorch',\n",
       " 'Leaf Scorch',\n",
       " 'Leaf Scorch',\n",
       " 'Leaf Scorch',\n",
       " 'Leaf Scorch',\n",
       " 'Leaf Scorch',\n",
       " 'Leaf Scorch',\n",
       " 'Leaf Scorch',\n",
       " 'Leaf Scorch',\n",
       " 'Leaf Scorch',\n",
       " 'Leaf Scorch',\n",
       " 'Leaf Scorch',\n",
       " 'Leaf Scorch',\n",
       " 'Leaf Scorch',\n",
       " 'Leaf Scorch',\n",
       " 'Leaf Scorch',\n",
       " 'Leaf Scorch',\n",
       " 'Leaf Scorch',\n",
       " 'Leaf Scorch',\n",
       " 'Leaf Scorch',\n",
       " 'Leaf Scorch',\n",
       " 'Leaf Scorch',\n",
       " 'Leaf Scorch',\n",
       " 'Leaf Scorch',\n",
       " 'Leaf Scorch',\n",
       " 'Leaf Scorch',\n",
       " 'Leaf Scorch',\n",
       " 'Leaf Scorch',\n",
       " 'Leaf Scorch']"
      ]
     },
     "execution_count": 5,
     "metadata": {},
     "output_type": "execute_result"
    }
   ],
   "source": [
    "test_label"
   ]
  },
  {
   "cell_type": "code",
   "execution_count": 6,
   "id": "d8feb2ef-4251-496c-b6e4-87979acc8a0e",
   "metadata": {},
   "outputs": [],
   "source": [
    "test_images = os.listdir(test_dir)"
   ]
  },
  {
   "cell_type": "code",
   "execution_count": 7,
   "id": "4b0266a2-8802-4d32-8422-00e17b8130c1",
   "metadata": {},
   "outputs": [
    {
     "data": {
      "text/plain": [
       "['Healthy', 'Leaf Scorch']"
      ]
     },
     "execution_count": 7,
     "metadata": {},
     "output_type": "execute_result"
    }
   ],
   "source": [
    "test_images"
   ]
  },
  {
   "cell_type": "markdown",
   "id": "4535dccc-0ab1-4400-8712-c2921112f561",
   "metadata": {},
   "source": [
    "# Preprocess the Image"
   ]
  },
  {
   "cell_type": "code",
   "execution_count": 8,
   "id": "b54c90ce-2ce9-446e-85b0-308380cc8128",
   "metadata": {},
   "outputs": [],
   "source": [
    "def preprocess_images(image_paths):\n",
    "    preprocessed_images = []\n",
    "    for image_path in image_paths:\n",
    "        img = Image.open(image_path)\n",
    "        img = img.resize((100, 100))  # Resize the image to match target_size\n",
    "        img = np.array(img) / 255.0  # Normalize pixel values to [0, 1]\n",
    "        preprocessed_images.append(img)\n",
    "    return np.array(preprocessed_images)\n",
    "\n",
    "test_images = preprocess_images(test_image_paths)"
   ]
  },
  {
   "cell_type": "markdown",
   "id": "d2d3d81b-32b4-4f90-a71e-3150388df09d",
   "metadata": {},
   "source": [
    "# Result"
   ]
  },
  {
   "cell_type": "code",
   "execution_count": 9,
   "id": "10f9fbe3-77a1-4912-a8a9-9cdbf1cfddbb",
   "metadata": {},
   "outputs": [
    {
     "name": "stdout",
     "output_type": "stream",
     "text": [
      "3/3 [==============================] - 2s 47ms/step\n",
      "Predicted class: healthy, True class: Healthy\n",
      "Predicted class: healthy, True class: Healthy\n",
      "Predicted class: healthy, True class: Healthy\n",
      "Predicted class: healthy, True class: Healthy\n",
      "Predicted class: healthy, True class: Healthy\n",
      "Predicted class: healthy, True class: Healthy\n",
      "Predicted class: healthy, True class: Healthy\n",
      "Predicted class: healthy, True class: Healthy\n",
      "Predicted class: healthy, True class: Healthy\n",
      "Predicted class: healthy, True class: Healthy\n",
      "Predicted class: healthy, True class: Healthy\n",
      "Predicted class: healthy, True class: Healthy\n",
      "Predicted class: healthy, True class: Healthy\n",
      "Predicted class: healthy, True class: Healthy\n",
      "Predicted class: healthy, True class: Healthy\n",
      "Predicted class: healthy, True class: Healthy\n",
      "Predicted class: healthy, True class: Healthy\n",
      "Predicted class: healthy, True class: Healthy\n",
      "Predicted class: healthy, True class: Healthy\n",
      "Predicted class: healthy, True class: Healthy\n",
      "Predicted class: healthy, True class: Healthy\n",
      "Predicted class: healthy, True class: Healthy\n",
      "Predicted class: healthy, True class: Healthy\n",
      "Predicted class: healthy, True class: Healthy\n",
      "Predicted class: healthy, True class: Healthy\n",
      "Predicted class: healthy, True class: Healthy\n",
      "Predicted class: healthy, True class: Healthy\n",
      "Predicted class: healthy, True class: Healthy\n",
      "Predicted class: healthy, True class: Healthy\n",
      "Predicted class: healthy, True class: Healthy\n",
      "Predicted class: healthy, True class: Healthy\n",
      "Predicted class: healthy, True class: Healthy\n",
      "Predicted class: healthy, True class: Healthy\n",
      "Predicted class: healthy, True class: Healthy\n",
      "Predicted class: healthy, True class: Healthy\n",
      "Predicted class: healthy, True class: Healthy\n",
      "Predicted class: healthy, True class: Healthy\n",
      "Predicted class: healthy, True class: Healthy\n",
      "Predicted class: healthy, True class: Healthy\n",
      "Predicted class: healthy, True class: Healthy\n",
      "Predicted class: healthy, True class: Healthy\n",
      "Predicted class: healthy, True class: Healthy\n",
      "Predicted class: healthy, True class: Healthy\n",
      "Predicted class: healthy, True class: Healthy\n",
      "Predicted class: healthy, True class: Healthy\n",
      "Predicted class: healthy, True class: Healthy\n",
      "Predicted class: Leaf Scorch, True class: Leaf Scorch\n",
      "Predicted class: Leaf Scorch, True class: Leaf Scorch\n",
      "Predicted class: Leaf Scorch, True class: Leaf Scorch\n",
      "Predicted class: Leaf Scorch, True class: Leaf Scorch\n",
      "Predicted class: Leaf Scorch, True class: Leaf Scorch\n",
      "Predicted class: Leaf Scorch, True class: Leaf Scorch\n",
      "Predicted class: Leaf Scorch, True class: Leaf Scorch\n",
      "Predicted class: Leaf Scorch, True class: Leaf Scorch\n",
      "Predicted class: Leaf Scorch, True class: Leaf Scorch\n",
      "Predicted class: Leaf Scorch, True class: Leaf Scorch\n",
      "Predicted class: Leaf Scorch, True class: Leaf Scorch\n",
      "Predicted class: Leaf Scorch, True class: Leaf Scorch\n",
      "Predicted class: Leaf Scorch, True class: Leaf Scorch\n",
      "Predicted class: Leaf Scorch, True class: Leaf Scorch\n",
      "Predicted class: Leaf Scorch, True class: Leaf Scorch\n",
      "Predicted class: Leaf Scorch, True class: Leaf Scorch\n",
      "Predicted class: Leaf Scorch, True class: Leaf Scorch\n",
      "Predicted class: Leaf Scorch, True class: Leaf Scorch\n",
      "Predicted class: Leaf Scorch, True class: Leaf Scorch\n",
      "Predicted class: Leaf Scorch, True class: Leaf Scorch\n",
      "Predicted class: Leaf Scorch, True class: Leaf Scorch\n",
      "Predicted class: Leaf Scorch, True class: Leaf Scorch\n",
      "Predicted class: Leaf Scorch, True class: Leaf Scorch\n",
      "Predicted class: Leaf Scorch, True class: Leaf Scorch\n",
      "Predicted class: Leaf Scorch, True class: Leaf Scorch\n",
      "Predicted class: Leaf Scorch, True class: Leaf Scorch\n",
      "Predicted class: Leaf Scorch, True class: Leaf Scorch\n",
      "Predicted class: Leaf Scorch, True class: Leaf Scorch\n",
      "Predicted class: Leaf Scorch, True class: Leaf Scorch\n",
      "Predicted class: Leaf Scorch, True class: Leaf Scorch\n",
      "Predicted class: Leaf Scorch, True class: Leaf Scorch\n",
      "Predicted class: Leaf Scorch, True class: Leaf Scorch\n",
      "Predicted class: Leaf Scorch, True class: Leaf Scorch\n",
      "Predicted class: Leaf Scorch, True class: Leaf Scorch\n",
      "Predicted class: Leaf Scorch, True class: Leaf Scorch\n",
      "Predicted class: Leaf Scorch, True class: Leaf Scorch\n",
      "Predicted class: Leaf Scorch, True class: Leaf Scorch\n",
      "Predicted class: Leaf Scorch, True class: Leaf Scorch\n",
      "Predicted class: Leaf Scorch, True class: Leaf Scorch\n",
      "Predicted class: Leaf Scorch, True class: Leaf Scorch\n",
      "Predicted class: Leaf Scorch, True class: Leaf Scorch\n",
      "Predicted class: Leaf Scorch, True class: Leaf Scorch\n",
      "Predicted class: Leaf Scorch, True class: Leaf Scorch\n",
      "Predicted class: Leaf Scorch, True class: Leaf Scorch\n",
      "Predicted class: Leaf Scorch, True class: Leaf Scorch\n"
     ]
    }
   ],
   "source": [
    "predictions = model.predict(test_images)\n",
    "\n",
    "for i, prediction in enumerate(predictions):\n",
    "    predicted_class = np.argmax(prediction)\n",
    "    true_class = test_label[i]    \n",
    "\n",
    "    if predicted_class == 0:\n",
    "        predicted_label = \"healthy\"\n",
    "    elif predicted_class == 1:\n",
    "        predicted_label = \"Leaf Scorch\"\n",
    "\n",
    "    #print(f\"Predicted class: {predicted_label}, True class: {true_class}\")\n",
    "    print(f\"Predicted class: {predicted_label}, True class: {true_class}\")"
   ]
  },
  {
   "cell_type": "code",
   "execution_count": null,
   "id": "b6905b36-56a8-477a-b315-aee09efd40b3",
   "metadata": {},
   "outputs": [],
   "source": []
  }
 ],
 "metadata": {
  "kernelspec": {
   "display_name": "Python 3 (ipykernel)",
   "language": "python",
   "name": "python3"
  },
  "language_info": {
   "codemirror_mode": {
    "name": "ipython",
    "version": 3
   },
   "file_extension": ".py",
   "mimetype": "text/x-python",
   "name": "python",
   "nbconvert_exporter": "python",
   "pygments_lexer": "ipython3",
   "version": "3.9.19"
  }
 },
 "nbformat": 4,
 "nbformat_minor": 5
}
