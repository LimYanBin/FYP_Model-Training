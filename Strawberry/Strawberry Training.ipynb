{
 "cells": [
  {
   "cell_type": "markdown",
   "id": "e14692f2-244d-4739-9846-677451e660d7",
   "metadata": {},
   "source": [
    "# Set Up GPU"
   ]
  },
  {
   "cell_type": "code",
   "execution_count": 1,
   "id": "13e9365b-354b-4117-9d5e-ef9f8e80cd49",
   "metadata": {},
   "outputs": [],
   "source": [
    "import tensorflow as tf"
   ]
  },
  {
   "cell_type": "code",
   "execution_count": 2,
   "id": "18e2ae8e-0e59-4eb9-8ea6-01928bb8a030",
   "metadata": {},
   "outputs": [
    {
     "name": "stdout",
     "output_type": "stream",
     "text": [
      "Found a GPU with the name:  PhysicalDevice(name='/physical_device:GPU:0', device_type='GPU')\n"
     ]
    }
   ],
   "source": [
    "gpus = tf.config.list_physical_devices(\"GPU\")\n",
    "\n",
    "if gpus:\n",
    "    for gpu in gpus:\n",
    "        print(\"Found a GPU with the name: \", gpu)\n",
    "else:\n",
    "    print(\"Not found\")"
   ]
  },
  {
   "cell_type": "code",
   "execution_count": 3,
   "id": "36bb2ec1-4e03-4053-9579-30604abf67a2",
   "metadata": {},
   "outputs": [],
   "source": [
    "import os"
   ]
  },
  {
   "cell_type": "code",
   "execution_count": 4,
   "id": "c8920573-0d8f-42ca-b996-882269ae47a8",
   "metadata": {},
   "outputs": [],
   "source": [
    "os.environ[\"CUDA_VISIBLE_DEVICES\"] = \"0\""
   ]
  },
  {
   "cell_type": "markdown",
   "id": "ceac95b4-7b35-4ad9-800d-f9efe99086dd",
   "metadata": {},
   "source": [
    "# Library"
   ]
  },
  {
   "cell_type": "code",
   "execution_count": 5,
   "id": "ec4f2eea-ce05-460a-8eef-11b95a691c85",
   "metadata": {},
   "outputs": [],
   "source": [
    "import pandas as pd\n",
    "import numpy as np\n",
    "import matplotlib.pyplot as plt\n",
    "import os\n",
    "import tensorflow as tf\n",
    "from tensorflow.keras import layers, models\n",
    "from tensorflow.keras.models import *\n",
    "from tensorflow.keras.layers import *\n",
    "from tensorflow.keras.preprocessing.image import ImageDataGenerator, img_to_array\n",
    "import os\n",
    "from PIL import Image\n",
    "import seaborn as sns\n",
    "from tensorflow.keras.preprocessing.image import ImageDataGenerator\n",
    "import scipy\n",
    "from tensorflow.keras.callbacks import ModelCheckpoint"
   ]
  },
  {
   "cell_type": "markdown",
   "id": "f26a1a02-a284-41c6-9b70-bcd3cbc9eeb3",
   "metadata": {},
   "source": [
    "# Directories"
   ]
  },
  {
   "cell_type": "code",
   "execution_count": 6,
   "id": "950c40fb-a9f8-4539-a4d6-752cb3010a2e",
   "metadata": {},
   "outputs": [
    {
     "data": {
      "text/plain": [
       "['Healthy', 'Leaf Scorch']"
      ]
     },
     "execution_count": 6,
     "metadata": {},
     "output_type": "execute_result"
    }
   ],
   "source": [
    "BASE_DIR = r'E:\\Desktop\\Recognition Model\\Strawberry\\Strawberry Dataset 1'\n",
    "\n",
    "valid_dir = os.path.join(BASE_DIR, 'valid')\n",
    "train_dir = os.path.join(BASE_DIR, 'train')\n",
    "\n",
    "train_class_dir = [os.path.join(train_dir, d) for d in os.listdir(train_dir) if os.path.isdir(os.path.join(train_dir, d))]\n",
    "valid_class_dir = [os.path.join(valid_dir, d) for d in os.listdir(valid_dir) if os.path.isdir(os.path.join(valid_dir, d))]\n",
    "\n",
    "train_image_paths = []\n",
    "valid_image_paths = []\n",
    "\n",
    "for class_dir in train_class_dir:\n",
    "    for file_name in os.listdir(class_dir):\n",
    "        if file_name.endswith(('.JPG','.jpg','jpeg')):\n",
    "            image_path = os.path.join(class_dir, file_name)\n",
    "            train_image_paths.append(image_path)\n",
    "\n",
    "for class_dir in valid_class_dir:\n",
    "    for file_name in os.listdir(class_dir):\n",
    "        if file_name.endswith(('.JPG','.jpg','jpeg')):\n",
    "            image_path = os.path.join(class_dir, file_name)\n",
    "            train_image_paths.append(image_path)\n",
    "\n",
    "\n",
    "train_labels = [os.path.basename(class_dir) for class_dir in train_class_dir]\n",
    "valid_labels = [os.path.basename(class_dir) for class_dir in valid_class_dir]\n",
    "\n",
    "classes_train = os.listdir(train_dir)\n",
    "\n",
    "classes_train"
   ]
  },
  {
   "cell_type": "markdown",
   "id": "70e374da-63da-4d6c-adcc-3bf75260b29b",
   "metadata": {},
   "source": [
    "# Data Preprocessing"
   ]
  },
  {
   "cell_type": "code",
   "execution_count": 7,
   "id": "dbd7cc55-f3a7-4c1a-9f14-47caa639fd6a",
   "metadata": {},
   "outputs": [
    {
     "name": "stdout",
     "output_type": "stream",
     "text": [
      "Found 3598 images belonging to 2 classes.\n",
      "Found 809 images belonging to 2 classes.\n"
     ]
    }
   ],
   "source": [
    "target_size = (100,100)\n",
    "\n",
    "batch_size = 64\n",
    "\n",
    "\n",
    "train_datagen = ImageDataGenerator(\n",
    "    rescale=1./255,\n",
    "    rotation_range=20,\n",
    "    width_shift_range=0.2,\n",
    "    height_shift_range=0.2,\n",
    "    horizontal_flip=True\n",
    ")\n",
    "\n",
    "train_generator = train_datagen.flow_from_directory(\n",
    "    train_dir,\n",
    "    target_size,\n",
    "    batch_size=batch_size,\n",
    "    class_mode='categorical',\n",
    "    shuffle=True\n",
    ")\n",
    "\n",
    "val_datagen = ImageDataGenerator(\n",
    "    rescale=1./255,\n",
    "    rotation_range=20,\n",
    "    width_shift_range=0.2,\n",
    "    height_shift_range=0.2,\n",
    "    horizontal_flip=True\n",
    ")\n",
    "\n",
    "\n",
    "validation_generator = val_datagen.flow_from_directory(\n",
    "    valid_dir,\n",
    "    target_size,\n",
    "    batch_size=batch_size,\n",
    "    class_mode='categorical',\n",
    "    shuffle=False\n",
    ")"
   ]
  },
  {
   "cell_type": "code",
   "execution_count": 8,
   "id": "aa943d21-a3ee-4b6a-b701-8aa2b4948bfd",
   "metadata": {},
   "outputs": [
    {
     "data": {
      "text/plain": [
       "{'Healthy': 0, 'Leaf Scorch': 1}"
      ]
     },
     "execution_count": 8,
     "metadata": {},
     "output_type": "execute_result"
    }
   ],
   "source": [
    "train_generator.class_indices"
   ]
  },
  {
   "cell_type": "code",
   "execution_count": 9,
   "id": "62fe13d8-dfe6-44d6-8161-e68521d43554",
   "metadata": {},
   "outputs": [
    {
     "data": {
      "text/plain": [
       "2"
      ]
     },
     "execution_count": 9,
     "metadata": {},
     "output_type": "execute_result"
    }
   ],
   "source": [
    "class_directories = [d for d in os.listdir(train_dir) if os.path.isdir(os.path.join(train_dir, d))]\n",
    "num_classes = len(class_directories)\n",
    "num_classes"
   ]
  },
  {
   "cell_type": "markdown",
   "id": "8ce0f566-3b8b-4368-8648-6e021ef6e184",
   "metadata": {},
   "source": [
    "# Build CNN"
   ]
  },
  {
   "cell_type": "code",
   "execution_count": 10,
   "id": "e51d2185-83b2-4ff7-9a77-9270cfa186fb",
   "metadata": {},
   "outputs": [],
   "source": [
    "model = models.Sequential()\n",
    "\n",
    "model.add(layers.Conv2D(32, (3, 3), activation = 'relu', input_shape = (100,100,3)))\n",
    "model.add(layers.MaxPooling2D((2,2)))\n",
    "\n",
    "model.add(layers.Conv2D(64, (3, 3), activation='relu', padding='same'))\n",
    "model.add(layers.MaxPooling2D((2,2)))\n",
    "\n",
    "model.add(layers.Conv2D(128, (3,3), activation = 'relu', padding='same'))\n",
    "model.add(layers.MaxPooling2D((2,2)))\n",
    "\n",
    "model.add(layers.Conv2D(256, (3, 3), activation='relu', padding='same'))\n",
    "model.add(layers.MaxPooling2D((2,2)))\n",
    "\n",
    "model.add(layers.Conv2D(128, (3,3), activation = 'relu', padding='same'))\n",
    "model.add(layers.MaxPooling2D((2,2)))\n",
    "\n",
    "model.add(layers.Conv2D(64, (3, 3), activation='relu', padding='same'))\n",
    "model.add(layers.MaxPooling2D((2,2)))\n",
    "\n",
    "model.add(layers.Flatten())\n",
    "\n",
    "model.add(layers.Dense(128, activation = 'relu'))\n",
    "model.add(layers.Dense(128, activation = 'relu'))\n",
    "\n",
    "model.add(layers.Dropout(0.5))\n",
    "\n",
    "model.add(layers.Dense(num_classes, activation='softmax'))"
   ]
  },
  {
   "cell_type": "code",
   "execution_count": 11,
   "id": "caa1ce64-3ad6-40fa-ad7d-0850f19852a0",
   "metadata": {},
   "outputs": [],
   "source": [
    "model.compile(optimizer='adam', loss='categorical_crossentropy', metrics=['accuracy'])"
   ]
  },
  {
   "cell_type": "code",
   "execution_count": 12,
   "id": "09df12e9-1ee7-491f-b781-d5c8cc02932e",
   "metadata": {},
   "outputs": [
    {
     "name": "stdout",
     "output_type": "stream",
     "text": [
      "Model: \"sequential\"\n",
      "_________________________________________________________________\n",
      " Layer (type)                Output Shape              Param #   \n",
      "=================================================================\n",
      " conv2d (Conv2D)             (None, 98, 98, 32)        896       \n",
      "                                                                 \n",
      " max_pooling2d (MaxPooling2D  (None, 49, 49, 32)       0         \n",
      " )                                                               \n",
      "                                                                 \n",
      " conv2d_1 (Conv2D)           (None, 49, 49, 64)        18496     \n",
      "                                                                 \n",
      " max_pooling2d_1 (MaxPooling  (None, 24, 24, 64)       0         \n",
      " 2D)                                                             \n",
      "                                                                 \n",
      " conv2d_2 (Conv2D)           (None, 24, 24, 128)       73856     \n",
      "                                                                 \n",
      " max_pooling2d_2 (MaxPooling  (None, 12, 12, 128)      0         \n",
      " 2D)                                                             \n",
      "                                                                 \n",
      " conv2d_3 (Conv2D)           (None, 12, 12, 256)       295168    \n",
      "                                                                 \n",
      " max_pooling2d_3 (MaxPooling  (None, 6, 6, 256)        0         \n",
      " 2D)                                                             \n",
      "                                                                 \n",
      " conv2d_4 (Conv2D)           (None, 6, 6, 128)         295040    \n",
      "                                                                 \n",
      " max_pooling2d_4 (MaxPooling  (None, 3, 3, 128)        0         \n",
      " 2D)                                                             \n",
      "                                                                 \n",
      " conv2d_5 (Conv2D)           (None, 3, 3, 64)          73792     \n",
      "                                                                 \n",
      " max_pooling2d_5 (MaxPooling  (None, 1, 1, 64)         0         \n",
      " 2D)                                                             \n",
      "                                                                 \n",
      " flatten (Flatten)           (None, 64)                0         \n",
      "                                                                 \n",
      " dense (Dense)               (None, 128)               8320      \n",
      "                                                                 \n",
      " dense_1 (Dense)             (None, 128)               16512     \n",
      "                                                                 \n",
      " dropout (Dropout)           (None, 128)               0         \n",
      "                                                                 \n",
      " dense_2 (Dense)             (None, 2)                 258       \n",
      "                                                                 \n",
      "=================================================================\n",
      "Total params: 782,338\n",
      "Trainable params: 782,338\n",
      "Non-trainable params: 0\n",
      "_________________________________________________________________\n"
     ]
    }
   ],
   "source": [
    "model.summary()"
   ]
  },
  {
   "cell_type": "markdown",
   "id": "1c376bf1-b297-436c-b12a-493b577f6cf6",
   "metadata": {},
   "source": [
    "# Trainning"
   ]
  },
  {
   "cell_type": "code",
   "execution_count": 13,
   "id": "6848c30f-edc4-46f8-857d-14d2c154bde0",
   "metadata": {},
   "outputs": [
    {
     "name": "stdout",
     "output_type": "stream",
     "text": [
      "Epoch 1/15\n",
      "57/57 [==============================] - ETA: 0s - loss: 0.3791 - accuracy: 0.8085\n",
      "Epoch 1: val_loss improved from inf to 0.11823, saving model to E:\\Desktop\\Recognition Model\\Strawberry\\Strawberry Model 1\n"
     ]
    },
    {
     "name": "stderr",
     "output_type": "stream",
     "text": [
      "WARNING:absl:Found untraced functions such as _jit_compiled_convolution_op, _jit_compiled_convolution_op, _jit_compiled_convolution_op, _jit_compiled_convolution_op, _jit_compiled_convolution_op while saving (showing 5 of 6). These functions will not be directly callable after loading.\n"
     ]
    },
    {
     "name": "stdout",
     "output_type": "stream",
     "text": [
      "INFO:tensorflow:Assets written to: E:\\Desktop\\Recognition Model\\Strawberry\\Strawberry Model 1\\assets\n"
     ]
    },
    {
     "name": "stderr",
     "output_type": "stream",
     "text": [
      "INFO:tensorflow:Assets written to: E:\\Desktop\\Recognition Model\\Strawberry\\Strawberry Model 1\\assets\n"
     ]
    },
    {
     "name": "stdout",
     "output_type": "stream",
     "text": [
      "57/57 [==============================] - 22s 358ms/step - loss: 0.3791 - accuracy: 0.8085 - val_loss: 0.1182 - val_accuracy: 0.9493\n",
      "Epoch 2/15\n",
      "57/57 [==============================] - ETA: 0s - loss: 0.1113 - accuracy: 0.9614\n",
      "Epoch 2: val_loss improved from 0.11823 to 0.07909, saving model to E:\\Desktop\\Recognition Model\\Strawberry\\Strawberry Model 1\n"
     ]
    },
    {
     "name": "stderr",
     "output_type": "stream",
     "text": [
      "WARNING:absl:Found untraced functions such as _jit_compiled_convolution_op, _jit_compiled_convolution_op, _jit_compiled_convolution_op, _jit_compiled_convolution_op, _jit_compiled_convolution_op while saving (showing 5 of 6). These functions will not be directly callable after loading.\n"
     ]
    },
    {
     "name": "stdout",
     "output_type": "stream",
     "text": [
      "INFO:tensorflow:Assets written to: E:\\Desktop\\Recognition Model\\Strawberry\\Strawberry Model 1\\assets\n"
     ]
    },
    {
     "name": "stderr",
     "output_type": "stream",
     "text": [
      "INFO:tensorflow:Assets written to: E:\\Desktop\\Recognition Model\\Strawberry\\Strawberry Model 1\\assets\n"
     ]
    },
    {
     "name": "stdout",
     "output_type": "stream",
     "text": [
      "57/57 [==============================] - 12s 216ms/step - loss: 0.1113 - accuracy: 0.9614 - val_loss: 0.0791 - val_accuracy: 0.9679\n",
      "Epoch 3/15\n",
      "57/57 [==============================] - ETA: 0s - loss: 0.0818 - accuracy: 0.9683\n",
      "Epoch 3: val_loss improved from 0.07909 to 0.07205, saving model to E:\\Desktop\\Recognition Model\\Strawberry\\Strawberry Model 1\n"
     ]
    },
    {
     "name": "stderr",
     "output_type": "stream",
     "text": [
      "WARNING:absl:Found untraced functions such as _jit_compiled_convolution_op, _jit_compiled_convolution_op, _jit_compiled_convolution_op, _jit_compiled_convolution_op, _jit_compiled_convolution_op while saving (showing 5 of 6). These functions will not be directly callable after loading.\n"
     ]
    },
    {
     "name": "stdout",
     "output_type": "stream",
     "text": [
      "INFO:tensorflow:Assets written to: E:\\Desktop\\Recognition Model\\Strawberry\\Strawberry Model 1\\assets\n"
     ]
    },
    {
     "name": "stderr",
     "output_type": "stream",
     "text": [
      "INFO:tensorflow:Assets written to: E:\\Desktop\\Recognition Model\\Strawberry\\Strawberry Model 1\\assets\n"
     ]
    },
    {
     "name": "stdout",
     "output_type": "stream",
     "text": [
      "57/57 [==============================] - 13s 217ms/step - loss: 0.0818 - accuracy: 0.9683 - val_loss: 0.0720 - val_accuracy: 0.9716\n",
      "Epoch 4/15\n",
      "57/57 [==============================] - ETA: 0s - loss: 0.0677 - accuracy: 0.9767\n",
      "Epoch 4: val_loss improved from 0.07205 to 0.02757, saving model to E:\\Desktop\\Recognition Model\\Strawberry\\Strawberry Model 1\n"
     ]
    },
    {
     "name": "stderr",
     "output_type": "stream",
     "text": [
      "WARNING:absl:Found untraced functions such as _jit_compiled_convolution_op, _jit_compiled_convolution_op, _jit_compiled_convolution_op, _jit_compiled_convolution_op, _jit_compiled_convolution_op while saving (showing 5 of 6). These functions will not be directly callable after loading.\n"
     ]
    },
    {
     "name": "stdout",
     "output_type": "stream",
     "text": [
      "INFO:tensorflow:Assets written to: E:\\Desktop\\Recognition Model\\Strawberry\\Strawberry Model 1\\assets\n"
     ]
    },
    {
     "name": "stderr",
     "output_type": "stream",
     "text": [
      "INFO:tensorflow:Assets written to: E:\\Desktop\\Recognition Model\\Strawberry\\Strawberry Model 1\\assets\n"
     ]
    },
    {
     "name": "stdout",
     "output_type": "stream",
     "text": [
      "57/57 [==============================] - 12s 214ms/step - loss: 0.0677 - accuracy: 0.9767 - val_loss: 0.0276 - val_accuracy: 0.9852\n",
      "Epoch 5/15\n",
      "57/57 [==============================] - ETA: 0s - loss: 0.0586 - accuracy: 0.9850\n",
      "Epoch 5: val_loss did not improve from 0.02757\n",
      "57/57 [==============================] - 11s 191ms/step - loss: 0.0586 - accuracy: 0.9850 - val_loss: 0.2829 - val_accuracy: 0.9493\n",
      "Epoch 6/15\n",
      "57/57 [==============================] - ETA: 0s - loss: 0.0690 - accuracy: 0.9794\n",
      "Epoch 6: val_loss improved from 0.02757 to 0.01204, saving model to E:\\Desktop\\Recognition Model\\Strawberry\\Strawberry Model 1\n"
     ]
    },
    {
     "name": "stderr",
     "output_type": "stream",
     "text": [
      "WARNING:absl:Found untraced functions such as _jit_compiled_convolution_op, _jit_compiled_convolution_op, _jit_compiled_convolution_op, _jit_compiled_convolution_op, _jit_compiled_convolution_op while saving (showing 5 of 6). These functions will not be directly callable after loading.\n"
     ]
    },
    {
     "name": "stdout",
     "output_type": "stream",
     "text": [
      "INFO:tensorflow:Assets written to: E:\\Desktop\\Recognition Model\\Strawberry\\Strawberry Model 1\\assets\n"
     ]
    },
    {
     "name": "stderr",
     "output_type": "stream",
     "text": [
      "INFO:tensorflow:Assets written to: E:\\Desktop\\Recognition Model\\Strawberry\\Strawberry Model 1\\assets\n"
     ]
    },
    {
     "name": "stdout",
     "output_type": "stream",
     "text": [
      "57/57 [==============================] - 12s 215ms/step - loss: 0.0690 - accuracy: 0.9794 - val_loss: 0.0120 - val_accuracy: 0.9938\n",
      "Epoch 7/15\n",
      "57/57 [==============================] - ETA: 0s - loss: 0.0478 - accuracy: 0.9872\n",
      "Epoch 7: val_loss did not improve from 0.01204\n",
      "57/57 [==============================] - 11s 192ms/step - loss: 0.0478 - accuracy: 0.9872 - val_loss: 0.0154 - val_accuracy: 0.9913\n",
      "Epoch 8/15\n",
      "57/57 [==============================] - ETA: 0s - loss: 0.0222 - accuracy: 0.9947\n",
      "Epoch 8: val_loss did not improve from 0.01204\n",
      "57/57 [==============================] - 11s 192ms/step - loss: 0.0222 - accuracy: 0.9947 - val_loss: 0.0172 - val_accuracy: 0.9926\n",
      "Epoch 9/15\n",
      "57/57 [==============================] - ETA: 0s - loss: 0.0224 - accuracy: 0.9908\n",
      "Epoch 9: val_loss did not improve from 0.01204\n",
      "57/57 [==============================] - 11s 193ms/step - loss: 0.0224 - accuracy: 0.9908 - val_loss: 0.0201 - val_accuracy: 0.9926\n",
      "Epoch 10/15\n",
      "57/57 [==============================] - ETA: 0s - loss: 0.0203 - accuracy: 0.9942\n",
      "Epoch 10: val_loss improved from 0.01204 to 0.00157, saving model to E:\\Desktop\\Recognition Model\\Strawberry\\Strawberry Model 1\n"
     ]
    },
    {
     "name": "stderr",
     "output_type": "stream",
     "text": [
      "WARNING:absl:Found untraced functions such as _jit_compiled_convolution_op, _jit_compiled_convolution_op, _jit_compiled_convolution_op, _jit_compiled_convolution_op, _jit_compiled_convolution_op while saving (showing 5 of 6). These functions will not be directly callable after loading.\n"
     ]
    },
    {
     "name": "stdout",
     "output_type": "stream",
     "text": [
      "INFO:tensorflow:Assets written to: E:\\Desktop\\Recognition Model\\Strawberry\\Strawberry Model 1\\assets\n"
     ]
    },
    {
     "name": "stderr",
     "output_type": "stream",
     "text": [
      "INFO:tensorflow:Assets written to: E:\\Desktop\\Recognition Model\\Strawberry\\Strawberry Model 1\\assets\n"
     ]
    },
    {
     "name": "stdout",
     "output_type": "stream",
     "text": [
      "57/57 [==============================] - 12s 216ms/step - loss: 0.0203 - accuracy: 0.9942 - val_loss: 0.0016 - val_accuracy: 1.0000\n",
      "Epoch 11/15\n",
      "57/57 [==============================] - ETA: 0s - loss: 0.0072 - accuracy: 0.9972\n",
      "Epoch 11: val_loss did not improve from 0.00157\n",
      "57/57 [==============================] - 11s 192ms/step - loss: 0.0072 - accuracy: 0.9972 - val_loss: 0.0046 - val_accuracy: 0.9975\n",
      "Epoch 12/15\n",
      "57/57 [==============================] - ETA: 0s - loss: 0.0156 - accuracy: 0.9961\n",
      "Epoch 12: val_loss did not improve from 0.00157\n",
      "57/57 [==============================] - 11s 192ms/step - loss: 0.0156 - accuracy: 0.9961 - val_loss: 0.0245 - val_accuracy: 0.9901\n",
      "Epoch 13/15\n",
      "57/57 [==============================] - ETA: 0s - loss: 0.0456 - accuracy: 0.9867\n",
      "Epoch 13: val_loss did not improve from 0.00157\n",
      "57/57 [==============================] - 11s 195ms/step - loss: 0.0456 - accuracy: 0.9867 - val_loss: 0.0172 - val_accuracy: 0.9975\n",
      "Epoch 14/15\n",
      "57/57 [==============================] - ETA: 0s - loss: 0.0084 - accuracy: 0.9978\n",
      "Epoch 14: val_loss improved from 0.00157 to 0.00048, saving model to E:\\Desktop\\Recognition Model\\Strawberry\\Strawberry Model 1\n"
     ]
    },
    {
     "name": "stderr",
     "output_type": "stream",
     "text": [
      "WARNING:absl:Found untraced functions such as _jit_compiled_convolution_op, _jit_compiled_convolution_op, _jit_compiled_convolution_op, _jit_compiled_convolution_op, _jit_compiled_convolution_op while saving (showing 5 of 6). These functions will not be directly callable after loading.\n"
     ]
    },
    {
     "name": "stdout",
     "output_type": "stream",
     "text": [
      "INFO:tensorflow:Assets written to: E:\\Desktop\\Recognition Model\\Strawberry\\Strawberry Model 1\\assets\n"
     ]
    },
    {
     "name": "stderr",
     "output_type": "stream",
     "text": [
      "INFO:tensorflow:Assets written to: E:\\Desktop\\Recognition Model\\Strawberry\\Strawberry Model 1\\assets\n"
     ]
    },
    {
     "name": "stdout",
     "output_type": "stream",
     "text": [
      "57/57 [==============================] - 12s 211ms/step - loss: 0.0084 - accuracy: 0.9978 - val_loss: 4.8153e-04 - val_accuracy: 1.0000\n",
      "Epoch 15/15\n",
      "57/57 [==============================] - ETA: 0s - loss: 0.0027 - accuracy: 0.9994\n",
      "Epoch 15: val_loss did not improve from 0.00048\n",
      "57/57 [==============================] - 11s 192ms/step - loss: 0.0027 - accuracy: 0.9994 - val_loss: 0.0026 - val_accuracy: 0.9988\n"
     ]
    }
   ],
   "source": [
    "num_epochs = 15\n",
    "steps_per_epoch = len(train_generator)\n",
    "validation_steps = len(validation_generator)\n",
    "\n",
    "filepath = r\"E:\\Desktop\\Recognition Model\\Strawberry\\Strawberry Model 1\"\n",
    "save_checkpoint = ModelCheckpoint(filepath, monitor='val_loss', verbose=1, \\\n",
    "                             save_best_only=True, save_weights_only=False, \\\n",
    "                             mode='auto', save_frequency=1)\n",
    "\n",
    "history = model.fit(\n",
    "    train_generator,\n",
    "    steps_per_epoch=steps_per_epoch,\n",
    "    epochs=num_epochs,\n",
    "    validation_data=validation_generator,\n",
    "    validation_steps=validation_steps,\n",
    "    callbacks=[save_checkpoint]\n",
    ")"
   ]
  },
  {
   "cell_type": "markdown",
   "id": "224a8adb-1554-4e61-8f40-e68f4635afb0",
   "metadata": {},
   "source": [
    "# Evaluation"
   ]
  },
  {
   "cell_type": "code",
   "execution_count": 14,
   "id": "c3f39652-74cc-4504-b460-433fb24004d9",
   "metadata": {},
   "outputs": [
    {
     "data": {
      "image/png": "[encoded data removed]",
      "text/plain": [
       "<Figure size 1200x400 with 2 Axes>"
      ]
     },
     "metadata": {},
     "output_type": "display_data"
    }
   ],
   "source": [
    "import matplotlib.pyplot as plt\n",
    "\n",
    "\n",
    "plt.figure(figsize=(12, 4))\n",
    "plt.subplot(1, 3, 1)\n",
    "plt.plot(history.history['loss'], label='Training Loss')\n",
    "plt.plot(history.history['val_loss'], label='Validation Loss')\n",
    "plt.title('Training and Validation Loss')\n",
    "plt.xlabel('Epoch')\n",
    "plt.ylabel('Loss')\n",
    "plt.legend()\n",
    "\n",
    "\n",
    "plt.subplot(1, 3, 2)\n",
    "plt.plot(history.history['accuracy'], label='Training Accuracy')\n",
    "plt.plot(history.history['val_accuracy'], label='Validation Accuracy')\n",
    "plt.title('Training and Validation Accuracy')\n",
    "plt.xlabel('Epoch')\n",
    "plt.ylabel('Accuracy')\n",
    "plt.legend()\n",
    "\n",
    "\n",
    "\n",
    "\n",
    "plt.tight_layout()\n",
    "plt.show()"
   ]
  },
  {
   "cell_type": "markdown",
   "id": "ac7b5e4d-9397-4192-8c7b-49da79659e61",
   "metadata": {},
   "source": [
    "# Save Model"
   ]
  },
  {
   "cell_type": "code",
   "execution_count": 15,
   "id": "617b2eae-38a6-4ddf-88c8-c5d1b813c51e",
   "metadata": {},
   "outputs": [],
   "source": [
    "#model.save(\"E:\\Desktop\\Recognition Model\\Strawberry\\Strawberry Model 1\")"
   ]
  },
  {
   "cell_type": "code",
   "execution_count": null,
   "id": "b3343320-fd2d-4f6f-b2bf-eba1c710f062",
   "metadata": {},
   "outputs": [],
   "source": []
  },
  {
   "cell_type": "code",
   "execution_count": null,
   "id": "6e15e45c-6bfe-4fe7-a493-302fa2cf7bba",
   "metadata": {},
   "outputs": [],
   "source": []
  }
 ],
 "metadata": {
  "kernelspec": {
   "display_name": "Python 3 (ipykernel)",
   "language": "python",
   "name": "python3"
  },
  "language_info": {
   "codemirror_mode": {
    "name": "ipython",
    "version": 3
   },
   "file_extension": ".py",
   "mimetype": "text/x-python",
   "name": "python",
   "nbconvert_exporter": "python",
   "pygments_lexer": "ipython3",
   "version": "3.9.19"
  }
 },
 "nbformat": 4,
 "nbformat_minor": 5
}
